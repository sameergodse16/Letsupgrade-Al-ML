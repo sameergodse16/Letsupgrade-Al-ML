{
 "cells": [
  {
   "cell_type": "code",
   "execution_count": null,
   "metadata": {},
   "outputs": [],
   "source": [
    "import os\n",
    "import sys\n",
    "import numpy as np\n",
    "import pandas as pd\n",
    "\n",
    "from sklearn.model_selection import train_test_split\n",
    "from scipy.io import loadmat"
   ]
  },
  {
   "cell_type": "markdown",
   "metadata": {},
   "source": [
    "# Import PYOD Pacakges and Methods"
   ]
  },
  {
   "cell_type": "code",
   "execution_count": null,
   "metadata": {},
   "outputs": [],
   "source": [
    "from pyod.models.pca import PCA\n",
    "from pyod.models.mcd import MCD\n",
    "from pyod.models.ocsvm import OCSVM\n",
    "from pyod.models.lof import LOF\n",
    "from pyod.models.cblof import CBLOF\n",
    "from pyod.models.hbos import HBOS\n",
    "from pyod.models.knn import KNN\n",
    "from pyod.models.abod import ABOD\n",
    "from pyod.models.iforest import IForest\n",
    "from pyod.models.feature_bagging import FeatureBagging"
   ]
  },
  {
   "cell_type": "markdown",
   "metadata": {},
   "source": [
    "# Import Metrics Packages "
   ]
  },
  {
   "cell_type": "code",
   "execution_count": null,
   "metadata": {},
   "outputs": [],
   "source": [
    "from pyod.utils.utility import standardizer\n",
    "from pyod.utils.utility import precision_n_scores\n",
    "from sklearn.metrics import roc_auc_score"
   ]
  },
  {
   "cell_type": "markdown",
   "metadata": {},
   "source": [
    "# Define the data file X and Y"
   ]
  },
  {
   "cell_type": "code",
   "execution_count": null,
   "metadata": {
    "scrolled": true
   },
   "outputs": [],
   "source": [
    "mat_file_list=['cardio.mat','glass.mat','ionosphere.mat','letter.mat','lympho.mat','mnist.mat','musk.mat','optdigits.mat','pendigits.mat','pima.mat','shuttle.mat','shuttle.mat','vertebral.mat','vowels.mat','wbc.mat']"
   ]
  },
  {
   "cell_type": "markdown",
   "metadata": {},
   "source": [
    "# How to load Mat file "
   ]
  },
  {
   "cell_type": "code",
   "execution_count": null,
   "metadata": {},
   "outputs": [],
   "source": [
    "from scipy.io import loadmat\n",
    "import sys \n",
    "import os\n",
    "Anamoly_detec_data = os.path.dirname(os.path.abspath('musk.mat'))\n",
    "mat_file_list = os.path.join(Anamoly_detec_data, 'musk.mat')\n",
    "import os\n",
    "Anamoly_detec_data = os.path.dirname(os.path.abspath('musk.mat'))\n",
    "mat_file_list = os.path.join(Anamoly_detec_data, 'musk.mat')"
   ]
  },
  {
   "cell_type": "code",
   "execution_count": null,
   "metadata": {},
   "outputs": [],
   "source": [
    "len(mat_file_list)"
   ]
  },
  {
   "cell_type": "markdown",
   "metadata": {},
   "source": [
    "# Input or Independent variable features Shape in Mat file format"
   ]
  },
  {
   "cell_type": "code",
   "execution_count": null,
   "metadata": {},
   "outputs": [],
   "source": [
    "type(data['X']),data['X'].shape"
   ]
  },
  {
   "cell_type": "markdown",
   "metadata": {},
   "source": [
    "# Output or Target or Dependent variable features Shape in Mat file format"
   ]
  },
  {
   "cell_type": "code",
   "execution_count": null,
   "metadata": {},
   "outputs": [],
   "source": [
    "type(data['y']),data['y'].shape"
   ]
  },
  {
   "cell_type": "markdown",
   "metadata": {},
   "source": [
    "# Exploring all Data files "
   ]
  },
  {
   "cell_type": "code",
   "execution_count": null,
   "metadata": {},
   "outputs": [],
   "source": [
    "from time import time\n",
    "from scipy.io import loadmat\n",
    "import numpy as np\n",
    "random_state=np.random.RandomState(42)\n",
    "for mat_file in mat_file_list:\n",
    "    print(\"\\n... Processing\", mat_file,'...' )\n",
    "    mat= loadmat(os.path.join('mat_file_list',mat_file))\n",
    "    \n",
    "    X=mat['X']\n",
    "    y=mat['y'].ravel()\n",
    "    outliners_fractions = no.count_nonzero(y)/len(y)\n",
    "    outliner_percentage = round(outliner_percentage* 100, ndigits=4)\n",
    "    \n",
    "    # Construct containers for saving results\n",
    "    roc_list=[mat_file[:-4],X.shape[0],X.shape[1],outliner_percentage]\n",
    "    prn_list=[mat_file[:-4],X.shape[0],X.shape[1],outliner_percentage]\n",
    "    time_list=[mat_file[:-4],X.shape[0],X.shape[1],outliner_percentage]\n",
    "    \n",
    "    # 60 % data for trainning and 40% for testing\n",
    "    X_train,X_test,y_train,y_test-=train_test_spit(X,y,test_size=0.4,random_state=random_state)\n",
    "    \n",
    "    # Standardizing data for processing \n",
    "    X_train_norm, X_test_norm= standardizer(X_train,X_test)\n",
    "    \n",
    "    classifiers={'Angle-based Outliner Detector (ABCD)': ABOD(\n",
    "    contamination=outliners_fraction),'Cluster-based Local Outliner Factor':CBLO(contamination=outliners_fraction,check_estimator=False,\n",
    "        random_state=random_state),\n",
    "                 'Fearture Bagging': FeatureBagging(contamination=outliners_fraction,random_state=random_state),\n",
    "                 'Histogram-base Outliner Detection (HOBS)':HOBS(contamination=outliners_fraction),\n",
    "                 'Isolation Forest': Iforest(contamination=outliners_fraction,random_state=random_state),\n",
    "                 'K Nearest Forest':KNN(contamination=outliners_fraction),\n",
    "                 'Local Outliner Factor (LOF)': LOF(contamination=outliners_fraction),\n",
    "                 'Minimum Covariance Determinant' (MCD): MCD (contamination=outliners_fraction,andom_state=random_state)\n",
    "                 'One=class SVM (OCSVM)':OCSVM  (contamination=outliners_fraction),\n",
    "                 'Principal Component Analysis (PCA)':PCA (contamination=outliners_fraction,andom_state=random_state),}\n",
    "    "
   ]
  },
  {
   "cell_type": "code",
   "execution_count": null,
   "metadata": {},
   "outputs": [],
   "source": [
    "for clf_name,clf in classifiers.items():\n",
    "    t0=time()\n",
    "    clf.fit(X_train_norm)\n",
    "    test_scores=clf.decision_function(X_test_norm)\n",
    "    t1=%timee()\n",
    "    \n",
    "duration= round(t1-t0,ndigits=4)\n",
    "time_list.append(duration)\n",
    "roc=round(roc_auc_score(y_test,test_scores),ndigits=4)\n",
    "prn=round(%precision_auc_score(y_test,test_scores),ndigits=4)\n",
    "print('{clf_name} ROC:{roc},Precision @ rank n:{prn}, execution time: {durations}s'.forrmat(clf_name=clf_name,roc=roc, prn=prn,durationn=duration))\n",
    "\n",
    "roc_list.append(roc)\n",
    "prn_list.append(prn)\n",
    "temp_df=pd.DataFrame(time_list).transpose()\n",
    "temp_df.columns=df_columns\n",
    "time_df=pd.concat([time_df,axis=0])\n",
    "temp_df=pd.DataFrame(time_list).transpose()\n",
    "temp_df.columns=df_columns\n",
    "roc_df=pd.concat([roc_df,axis=0])\n",
    "temp_df=pd.DataFrame(time_list).transpose()\n",
    "temp_df.columns=df_columns\n",
    "prn_df=pd.concat([prn_df,axis=0])"
   ]
  }
 ],
 "metadata": {
  "kernelspec": {
   "display_name": "Python 3",
   "language": "python",
   "name": "python3"
  },
  "language_info": {
   "codemirror_mode": {
    "name": "ipython",
    "version": 3
   },
   "file_extension": ".py",
   "mimetype": "text/x-python",
   "name": "python",
   "nbconvert_exporter": "python",
   "pygments_lexer": "ipython3",
   "version": "3.7.6"
  }
 },
 "nbformat": 4,
 "nbformat_minor": 4
}
