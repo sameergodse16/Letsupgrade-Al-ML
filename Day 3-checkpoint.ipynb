{
 "cells": [
  {
   "cell_type": "code",
   "execution_count": 1,
   "metadata": {},
   "outputs": [
    {
     "name": "stdout",
     "output_type": "stream",
     "text": [
      "Subtraction of two complex number= (4-6j)\n"
     ]
    }
   ],
   "source": [
    "#Asnwer 1\n",
    "complexno1 = 5+8j\n",
    "complexno2 = 1+14j\n",
    "print('Subtraction of two complex number=',complexno1-complexno2)"
   ]
  },
  {
   "cell_type": "code",
   "execution_count": 2,
   "metadata": {},
   "outputs": [
    {
     "name": "stdout",
     "output_type": "stream",
     "text": [
      "625\n"
     ]
    }
   ],
   "source": [
    "#Asnwer 2\n",
    "x = 5\n",
    "x **= 4\n",
    "print(x)"
   ]
  },
  {
   "cell_type": "code",
   "execution_count": 3,
   "metadata": {},
   "outputs": [
    {
     "name": "stdout",
     "output_type": "stream",
     "text": [
      "Number before swapping: 5 10\n",
      "Number before swapping: 10 5\n"
     ]
    }
   ],
   "source": [
    "#Asnwer 3\n",
    "a = \"5\"\n",
    "b = \"10\"\n",
    "print(\"Number before swapping:\",a,b)\n",
    "temp=a\n",
    "a=b\n",
    "b=temp\n",
    "print(\"Number before swapping:\",a,b)"
   ]
  },
  {
   "cell_type": "code",
   "execution_count": 4,
   "metadata": {},
   "outputs": [
    {
     "name": "stdout",
     "output_type": "stream",
     "text": [
      "Number before swapping: 5 10\n",
      "Number after swapping: 10 5\n"
     ]
    }
   ],
   "source": [
    "#Asnwer 4\n",
    "a= int(5)\n",
    "b= int(10)\n",
    "print(\"Number before swapping:\",a,b)\n",
    "a=a+b\n",
    "b=a-b\n",
    "a=a-b\n",
    "print(\"Number after swapping:\",a,b)"
   ]
  },
  {
   "cell_type": "code",
   "execution_count": 8,
   "metadata": {},
   "outputs": [
    {
     "name": "stdout",
     "output_type": "stream",
     "text": [
      "Enter temperature in fahrenheit:80\n",
      "Temperature in Celsius is 26.666666666666668\n",
      "Temperature in Kelvin is 299.81666666666666\n"
     ]
    }
   ],
   "source": [
    "#Asnwer 5\n",
    "F=int(input(\"Enter temperature in fahrenheit:\"))\n",
    "C=(F-32)*5/9\n",
    "print(\"Temperature in Celsius is\",C)\n",
    "K=(F-32)/1.8+273.15\n",
    "print(\"Temperature in Kelvin is\",K)"
   ]
  },
  {
   "cell_type": "code",
   "execution_count": 9,
   "metadata": {},
   "outputs": [
    {
     "name": "stdout",
     "output_type": "stream",
     "text": [
      "<class 'str'>\n"
     ]
    }
   ],
   "source": [
    "#Asnwer 6\n",
    "a= \"Hi Sam\"\n",
    "print(type(a)) "
   ]
  },
  {
   "cell_type": "code",
   "execution_count": 6,
   "metadata": {},
   "outputs": [
    {
     "name": "stdout",
     "output_type": "stream",
     "text": [
      "<class 'int'>\n"
     ]
    }
   ],
   "source": [
    "#Asnwer 6\n",
    "a= 20\n",
    "print(type(a)) "
   ]
  },
  {
   "cell_type": "code",
   "execution_count": 7,
   "metadata": {},
   "outputs": [
    {
     "name": "stdout",
     "output_type": "stream",
     "text": [
      "<class 'float'>\n"
     ]
    }
   ],
   "source": [
    "#Asnwer 6\n",
    "a= 25.2\n",
    "print(type(a)) "
   ]
  },
  {
   "cell_type": "markdown",
   "metadata": {},
   "source": [
    "• After completing the assignment in any note book either jyputer or google Collab \n",
    "• Create a folder Assignment in your computer day wise and keep a backup of the same \n",
    "• Open the my github website wherein you can push or upload your code and build your profile by sign up \n",
    "• Login using user id and password \n",
    "• Create a new repository with name Letsupgrade Ai-ML and cerate a folder \n",
    "• Drag and drop to the github and upload your file \n",
    "• Check if that file is public go to hoe folder to the repository \n",
    "• Copy the URL of the Folder of that day and paste in the Assignment Submission Form (Google Form) \n",
    "• Make sure you are filling correct details in the Assignment Submission Form."
   ]
  },
  {
   "cell_type": "code",
   "execution_count": null,
   "metadata": {},
   "outputs": [],
   "source": []
  }
 ],
 "metadata": {
  "kernelspec": {
   "display_name": "Python 3",
   "language": "python",
   "name": "python3"
  },
  "language_info": {
   "codemirror_mode": {
    "name": "ipython",
    "version": 3
   },
   "file_extension": ".py",
   "mimetype": "text/x-python",
   "name": "python",
   "nbconvert_exporter": "python",
   "pygments_lexer": "ipython3",
   "version": "3.7.6"
  }
 },
 "nbformat": 4,
 "nbformat_minor": 4
}
