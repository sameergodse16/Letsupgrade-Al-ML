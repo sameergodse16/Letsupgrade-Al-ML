{
 "cells": [
  {
   "cell_type": "code",
   "execution_count": 1,
   "metadata": {},
   "outputs": [
    {
     "name": "stdout",
     "output_type": "stream",
     "text": [
      "Addition = (10+25j)\n",
      "Subtraction = (2-5j)\n",
      "Division = (0.7219917012448133-0.2074688796680498j)\n",
      "Multiplication = (-126+130j)\n",
      "power = (-0.0035590358818322686-0.00044979428226440987j)\n"
     ]
    },
    {
     "ename": "TypeError",
     "evalue": "can't mod complex numbers.",
     "output_type": "error",
     "traceback": [
      "\u001b[1;31m---------------------------------------------------------------------------\u001b[0m",
      "\u001b[1;31mTypeError\u001b[0m                                 Traceback (most recent call last)",
      "\u001b[1;32m<ipython-input-1-2b0db555dd71>\u001b[0m in \u001b[0;36m<module>\u001b[1;34m\u001b[0m\n\u001b[0;32m      8\u001b[0m \u001b[0mprint\u001b[0m \u001b[1;33m(\u001b[0m\u001b[1;34m\"Multiplication =\"\u001b[0m\u001b[1;33m,\u001b[0m \u001b[0mc1\u001b[0m \u001b[1;33m*\u001b[0m \u001b[0mc2\u001b[0m\u001b[1;33m)\u001b[0m\u001b[1;33m\u001b[0m\u001b[1;33m\u001b[0m\u001b[0m\n\u001b[0;32m      9\u001b[0m \u001b[0mprint\u001b[0m \u001b[1;33m(\u001b[0m\u001b[1;34m\"power =\"\u001b[0m\u001b[1;33m,\u001b[0m \u001b[0mc1\u001b[0m \u001b[1;33m**\u001b[0m \u001b[0mc2\u001b[0m\u001b[1;33m)\u001b[0m\u001b[1;33m\u001b[0m\u001b[1;33m\u001b[0m\u001b[0m\n\u001b[1;32m---> 10\u001b[1;33m \u001b[0mprint\u001b[0m \u001b[1;33m(\u001b[0m\u001b[1;34m\"Modulo =\"\u001b[0m\u001b[1;33m,\u001b[0m \u001b[0mc1\u001b[0m \u001b[1;33m%\u001b[0m \u001b[0mc2\u001b[0m\u001b[1;33m)\u001b[0m\u001b[1;33m\u001b[0m\u001b[1;33m\u001b[0m\u001b[0m\n\u001b[0m\u001b[0;32m     11\u001b[0m \u001b[0mprint\u001b[0m \u001b[1;33m(\u001b[0m\u001b[1;34m\"Floor =\"\u001b[0m\u001b[1;33m,\u001b[0m \u001b[0mc1\u001b[0m \u001b[1;33m//\u001b[0m \u001b[0mc2\u001b[0m\u001b[1;33m)\u001b[0m\u001b[1;33m\u001b[0m\u001b[1;33m\u001b[0m\u001b[0m\n\u001b[0;32m     12\u001b[0m \u001b[1;33m\u001b[0m\u001b[0m\n",
      "\u001b[1;31mTypeError\u001b[0m: can't mod complex numbers."
     ]
    }
   ],
   "source": [
    "#Answer 1\n",
    "c1 = 6+10j\n",
    "c2 = 4+15j\n",
    "\n",
    "print (\"Addition =\", c1 + c2)\n",
    "print (\"Subtraction =\", c1 - c2)\n",
    "print (\"Division =\", c1 / c2)\n",
    "print (\"Multiplication =\", c1 * c2)\n",
    "print (\"power =\", c1 ** c2)\n",
    "print (\"Modulo =\", c1 % c2)\n",
    "print (\"Floor =\", c1 // c2)\n",
    "\n",
    "# Note: Complex numbers are numbers with a real and imaginary part which is \"j\",\n",
    "#and are worth nothing or zero value therefore neither modulo nor floor division can accept a complex number \n",
    "#hence we are getting the TypeError."
   ]
  },
  {
   "cell_type": "markdown",
   "metadata": {},
   "source": [
    "# Answer 2\n",
    "Range can simply mean being in between of two things "
   ]
  },
  {
   "cell_type": "code",
   "execution_count": 2,
   "metadata": {},
   "outputs": [
    {
     "data": {
      "text/plain": [
       "range(0, 10)"
      ]
     },
     "execution_count": 2,
     "metadata": {},
     "output_type": "execute_result"
    }
   ],
   "source": [
    "# Answer 2\n",
    "range(10) # it give the output as a range between 0 to 10"
   ]
  },
  {
   "cell_type": "code",
   "execution_count": 3,
   "metadata": {},
   "outputs": [
    {
     "name": "stdout",
     "output_type": "stream",
     "text": [
      "Enter number1:\n",
      "30\n",
      "Enter number2:\n",
      "20\n",
      "answer of subtraction= 10\n",
      "1.5\n"
     ]
    }
   ],
   "source": [
    "#Answer 3\n",
    "num1=int(input (\"Enter number1:\\n\"))\n",
    "num2= int(input (\"Enter number2:\\n\"))\n",
    "result1 = num1 - num2\n",
    "print (\"answer of subtraction=\", result1)\n",
    "if result1 > 25:\n",
    "    print (num1*num2)\n",
    "else:\n",
    "    print (num1/num2)"
   ]
  },
  {
   "cell_type": "code",
   "execution_count": 4,
   "metadata": {},
   "outputs": [
    {
     "name": "stdout",
     "output_type": "stream",
     "text": [
      "number divided by 2 are: 15\n",
      " Square of the no minus 2, result is: 15 223\n",
      "number divided by 2 are: 21\n",
      " Square of the no minus 2, result is: 21 439\n",
      "number divided by 2 are: 23\n",
      " Square of the no minus 2, result is: 23 527\n"
     ]
    }
   ],
   "source": [
    "#Answer 4\n",
    "list1 = [2,8,30,12,15,18,20,21,23,32]\n",
    "for x in list1:\n",
    "    if x%2--0:\n",
    "        print(\"number divided by 2 are:\" , x)\n",
    "        print(\" Square of the no minus 2, result is:\" ,x ,(x*x)-2)"
   ]
  },
  {
   "cell_type": "code",
   "execution_count": 5,
   "metadata": {},
   "outputs": [
    {
     "name": "stdout",
     "output_type": "stream",
     "text": [
      " Number greater than 7 when divide by 2 is: 16\n",
      " Number greater than 7 when divide by 2 is: 18\n",
      " Number greater than 7 when divide by 2 is: 20\n",
      " Number greater than 7 when divide by 2 is: 24\n",
      " Number greater than 7 when divide by 2 is: 30\n"
     ]
    }
   ],
   "source": [
    "#Answer 5\n",
    "list1= [ 1,3,5,7,12,16,18,20,24,30]\n",
    "for x in list1:\n",
    "    if((x/2>7)):\n",
    "        print(\" Number greater than 7 when divide by 2 is:\", x )"
   ]
  },
  {
   "cell_type": "code",
   "execution_count": null,
   "metadata": {},
   "outputs": [],
   "source": []
  }
 ],
 "metadata": {
  "kernelspec": {
   "display_name": "Python 3",
   "language": "python",
   "name": "python3"
  },
  "language_info": {
   "codemirror_mode": {
    "name": "ipython",
    "version": 3
   },
   "file_extension": ".py",
   "mimetype": "text/x-python",
   "name": "python",
   "nbconvert_exporter": "python",
   "pygments_lexer": "ipython3",
   "version": "3.7.6"
  }
 },
 "nbformat": 4,
 "nbformat_minor": 4
}
