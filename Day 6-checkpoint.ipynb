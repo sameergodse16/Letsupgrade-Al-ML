{
 "cells": [
  {
   "cell_type": "code",
   "execution_count": null,
   "metadata": {},
   "outputs": [],
   "source": [
    "# Answer 1\n",
    "email=input(\"Enter email ID:\")\n",
    "user = email.split('@')[0]\n",
    "domain = email.split('@')[1]\n",
    "domain_name = domain.split('.')[0]\n",
    "\n",
    "print (\"Company name:\", domain_name)"
   ]
  },
  {
   "cell_type": "code",
   "execution_count": 2,
   "metadata": {},
   "outputs": [
    {
     "name": "stdout",
     "output_type": "stream",
     "text": [
      "enter words, comma separated> without,hello,bag,world\n",
      "bag,hello,without,world\n"
     ]
    }
   ],
   "source": [
    "# Answer 2\n",
    "\n",
    "a=input(\"enter words, comma separated: \")\n",
    "a=a.split(\",\")\n",
    "a=sorted(a)\n",
    "print(\",\".join(a))"
   ]
  },
  {
   "cell_type": "code",
   "execution_count": 3,
   "metadata": {},
   "outputs": [
    {
     "name": "stdout",
     "output_type": "stream",
     "text": [
      "{'Honda', 'Suzuki', 'Maruti'}\n",
      "Honda\n",
      "Suzuki\n",
      "Maruti\n",
      "True\n",
      "{'Honda', 'Suzuki', 'Maruti', 'Audi'}\n",
      "{'Maruti', 'GM', 'Civic', 'Suzuki', 'Honda', 'Audi'}\n",
      "{1, 2, 'Maruti', 3, 'Suzuki', 'Honda'}\n"
     ]
    }
   ],
   "source": [
    "# Answer 3\n",
    "\n",
    "set= {\"Maruti\",\"Honda\",\"Suzuki\"}\n",
    "print(set)\n",
    "\n",
    "#Loop through the set, and print the values\n",
    "set= {\"Maruti\",\"Honda\",\"Suzuki\"}\n",
    "for x in set:\n",
    "  print(x)\n",
    "\n",
    "#Check if \"Honda\" is present in the set:\n",
    "set = {\"Maruti\",\"Honda\",\"Suzuki\"}\n",
    "print(\"Honda\" in set)\n",
    "\n",
    "#Add Items using the Add () method:\n",
    "set = {\"Maruti\",\"Honda\",\"Suzuki\"}\n",
    "set.add(\"Audi\")\n",
    "print(set)\n",
    "\n",
    "#Add multiple items to a set, using the update() method:\n",
    "\n",
    "set = {\"Maruti\",\"Honda\",\"Suzuki\"}\n",
    "set.update([\"Audi\", \"GM\", \"Civic\"])\n",
    "print(set)\n",
    "\n",
    "#The union() method returns a new set with all items from both sets:\n",
    "set1 = {\"Maruti\",\"Honda\",\"Suzuki\"}\n",
    "set2 = {1, 2, 3}\n",
    "\n",
    "set3 = set1.union(set2)\n",
    "print(set3)"
   ]
  },
  {
   "cell_type": "code",
   "execution_count": 4,
   "metadata": {},
   "outputs": [
    {
     "name": "stdout",
     "output_type": "stream",
     "text": [
      "4.0\n"
     ]
    }
   ],
   "source": [
    "# Answer 4\n",
    "\n",
    "def FindingtheMissingNo(b): \n",
    "    n = len(b) \n",
    "    total = (n + 1)*(n + 2)/2\n",
    "    sum_of_b = sum(b) \n",
    "    return total - sum_of_b \n",
    "b = [1, 2, 3, 5, 6] \n",
    "miss = FindingtheMissingNo(b) \n",
    "print(miss) "
   ]
  },
  {
   "cell_type": "code",
   "execution_count": 5,
   "metadata": {},
   "outputs": [
    {
     "name": "stdout",
     "output_type": "stream",
     "text": [
      "[12, 24, 35, 88, 120, 155]\n"
     ]
    }
   ],
   "source": [
    "# Answer 5\n",
    "\n",
    "def Remove(duplicate): \n",
    "    final_list = [] \n",
    "    for num in duplicate: \n",
    "        if num not in final_list: \n",
    "            final_list.append(num) \n",
    "    return final_list  \n",
    "duplicate = [12,24,35,24,88,120,155,88,120,155] \n",
    "print(Remove(duplicate))"
   ]
  },
  {
   "cell_type": "code",
   "execution_count": null,
   "metadata": {},
   "outputs": [],
   "source": []
  }
 ],
 "metadata": {
  "kernelspec": {
   "display_name": "Python 3",
   "language": "python",
   "name": "python3"
  },
  "language_info": {
   "codemirror_mode": {
    "name": "ipython",
    "version": 3
   },
   "file_extension": ".py",
   "mimetype": "text/x-python",
   "name": "python",
   "nbconvert_exporter": "python",
   "pygments_lexer": "ipython3",
   "version": "3.7.6"
  }
 },
 "nbformat": 4,
 "nbformat_minor": 4
}
