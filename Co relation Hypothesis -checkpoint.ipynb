{
 "cells": [
  {
   "cell_type": "code",
   "execution_count": 1,
   "metadata": {},
   "outputs": [
    {
     "name": "stdout",
     "output_type": "stream",
     "text": [
      "-0.15920500686577965 1.996801615886744e-26\n",
      "Reject null hypothesis\n"
     ]
    },
    {
     "data": {
      "text/plain": [
       "<matplotlib.collections.PathCollection at 0x1c902ede3c8>"
      ]
     },
     "execution_count": 1,
     "metadata": {},
     "output_type": "execute_result"
    },
    {
     "data": {
      "image/png": "[encoded data removed]",
      "text/plain": [
       "<Figure size 432x288 with 1 Axes>"
      ]
     },
     "metadata": {
      "needs_background": "light"
     },
     "output_type": "display_data"
    }
   ],
   "source": [
    "import numpy as np\n",
    "import pandas as pd\n",
    "import matplotlib.pyplot as plt\n",
    "data=pd.read_excel(\"general_data.xlsx\",sheet_name=0)\n",
    "from scipy.stats import pearsonr\n",
    "stats,p=pearsonr(data.Attrition,data.Age)\n",
    "print(stats,p)\n",
    "#Correlation Hypothesis 1\n",
    "# Ho = Attrition has no significance with Age (Null hypothesis)\n",
    "# Ha = Attrition has significance with Age (Alternate hypothesis)\n",
    "if(p,0.05):\n",
    "    print(\"Reject null hypothesis\")\n",
    "else:\n",
    "    print(\"Accept null hypothesis\")\n",
    "    print(stats,p)\n",
    "plt.scatter(data.Attrition,data.Age)"
   ]
  },
  {
   "cell_type": "code",
   "execution_count": 2,
   "metadata": {},
   "outputs": [
    {
     "name": "stdout",
     "output_type": "stream",
     "text": [
      "-0.009730141010179674 0.5182860428050771\n",
      "Reject null hypothesis\n"
     ]
    },
    {
     "data": {
      "text/plain": [
       "<matplotlib.collections.PathCollection at 0x1c9041d3508>"
      ]
     },
     "execution_count": 2,
     "metadata": {},
     "output_type": "execute_result"
    },
    {
     "data": {
      "image/png": "[encoded data removed]",
      "text/plain": [
       "<Figure size 432x288 with 1 Axes>"
      ]
     },
     "metadata": {
      "needs_background": "light"
     },
     "output_type": "display_data"
    }
   ],
   "source": [
    "import numpy as np\n",
    "import pandas as pd\n",
    "import matplotlib.pyplot as plt\n",
    "data=pd.read_excel(\"general_data.xlsx\",sheet_name=0)\n",
    "from scipy.stats import pearsonr\n",
    "stats,p=pearsonr(data.Attrition,data.DistanceFromHome)\n",
    "print(stats,p)\n",
    "#Correlation Hypothesis 2\n",
    "# Ho = Attrition has no significance with Distance From Home (Null hypothesis)\n",
    "# Ha = Attrition has significance with Distance From Home (Alternate hypothesis)\n",
    "if(p,0.05):\n",
    "    print(\"Reject null hypothesis\")\n",
    "else:\n",
    "    print(\"Accept null hypothesis\")\n",
    "    print(stats,p)\n",
    "plt.scatter(data.Attrition,data.DistanceFromHome)"
   ]
  },
  {
   "cell_type": "code",
   "execution_count": 3,
   "metadata": {},
   "outputs": [
    {
     "name": "stdout",
     "output_type": "stream",
     "text": [
      "-0.015111167710968713 0.3157293177118575\n",
      "Reject null hypothesis\n"
     ]
    },
    {
     "data": {
      "text/plain": [
       "<matplotlib.collections.PathCollection at 0x1c9043ef988>"
      ]
     },
     "execution_count": 3,
     "metadata": {},
     "output_type": "execute_result"
    },
    {
     "data": {
      "image/png": "[encoded data removed]",
      "text/plain": [
       "<Figure size 432x288 with 1 Axes>"
      ]
     },
     "metadata": {
      "needs_background": "light"
     },
     "output_type": "display_data"
    }
   ],
   "source": [
    "import numpy as np\n",
    "import pandas as pd\n",
    "import matplotlib.pyplot as plt\n",
    "data=pd.read_excel(\"general_data.xlsx\",sheet_name=0)\n",
    "from scipy.stats import pearsonr\n",
    "stats,p=pearsonr(data.Attrition,data.Education)\n",
    "print(stats,p)\n",
    "#Correlation Hypothesis 3\n",
    "# Ho = Attrition has no significance with Education (Null hypothesis)\n",
    "# Ha = Attrition has significance with Education (Alternate hypothesis)\n",
    "if(p,0.05):\n",
    "    print(\"Reject null hypothesis\")\n",
    "else:\n",
    "    print(\"Accept null hypothesis\")\n",
    "    print(stats,p)\n",
    "plt.scatter(data.Attrition,data.Education)"
   ]
  },
  {
   "cell_type": "code",
   "execution_count": 4,
   "metadata": {},
   "outputs": [
    {
     "name": "stdout",
     "output_type": "stream",
     "text": [
      "-0.004729122995066087 0.7535487401886252\n",
      "Reject null hypothesis\n"
     ]
    },
    {
     "data": {
      "text/plain": [
       "<matplotlib.collections.PathCollection at 0x1c9043cd1c8>"
      ]
     },
     "execution_count": 4,
     "metadata": {},
     "output_type": "execute_result"
    },
    {
     "data": {
      "image/png": "[encoded data removed]",
      "text/plain": [
       "<Figure size 432x288 with 1 Axes>"
      ]
     },
     "metadata": {
      "needs_background": "light"
     },
     "output_type": "display_data"
    }
   ],
   "source": [
    "import numpy as np\n",
    "import pandas as pd\n",
    "import matplotlib.pyplot as plt\n",
    "data=pd.read_excel(\"general_data.xlsx\",sheet_name=0)\n",
    "from scipy.stats import pearsonr\n",
    "stats,p=pearsonr(data.Attrition,data.EmployeeID)\n",
    "print(stats,p)\n",
    "#Correlation Hypothesis 4\n",
    "# Ho = Attrition has no significance with Employee ID  (Null hypothesis)\n",
    "# Ha = Attrition has significance with Employee ID  (Alternate hypothesis)\n",
    "if(p,0.05):\n",
    "    print(\"Reject null hypothesis\")\n",
    "else:\n",
    "    print(\"Accept null hypothesis\")\n",
    "    print(stats,p)\n",
    "plt.scatter(data.Attrition,data.EmployeeID)"
   ]
  },
  {
   "cell_type": "code",
   "execution_count": 5,
   "metadata": {},
   "outputs": [
    {
     "name": "stdout",
     "output_type": "stream",
     "text": [
      "-0.010289713287495042 0.49451717271828405\n",
      "Reject null hypothesis\n"
     ]
    },
    {
     "data": {
      "text/plain": [
       "<matplotlib.collections.PathCollection at 0x1c9041b7808>"
      ]
     },
     "execution_count": 5,
     "metadata": {},
     "output_type": "execute_result"
    },
    {
     "data": {
      "image/png": "[encoded data removed]",
      "text/plain": [
       "<Figure size 432x288 with 1 Axes>"
      ]
     },
     "metadata": {
      "needs_background": "light"
     },
     "output_type": "display_data"
    }
   ],
   "source": [
    "import numpy as np\n",
    "import pandas as pd\n",
    "import matplotlib.pyplot as plt\n",
    "data=pd.read_excel(\"general_data.xlsx\",sheet_name=0)\n",
    "from scipy.stats import pearsonr\n",
    "stats,p=pearsonr(data.Attrition,data.JobLevel)\n",
    "print(stats,p)\n",
    "#Correlation Hypothesis 5\n",
    "# Ho = Attrition has no significance with Job Level  (Null hypothesis) \n",
    "# Ha = Attrition has significance with JobLevel (Alternate hypothesis)\n",
    "if(p,0.05):\n",
    "    print(\"Reject null hypothesis\")\n",
    "else:\n",
    "    print(\"Accept null hypothesis\")\n",
    "    print(stats,p)\n",
    "plt.scatter(data.Attrition,data.JobLevel)"
   ]
  },
  {
   "cell_type": "code",
   "execution_count": 6,
   "metadata": {},
   "outputs": [
    {
     "name": "stdout",
     "output_type": "stream",
     "text": [
      "0.03253259489105349 0.030743386433355353\n",
      "Reject null hypothesis\n"
     ]
    },
    {
     "data": {
      "text/plain": [
       "<matplotlib.collections.PathCollection at 0x1c903f26648>"
      ]
     },
     "execution_count": 6,
     "metadata": {},
     "output_type": "execute_result"
    },
    {
     "data": {
      "image/png": "[encoded data removed]",
      "text/plain": [
       "<Figure size 432x288 with 1 Axes>"
      ]
     },
     "metadata": {
      "needs_background": "light"
     },
     "output_type": "display_data"
    }
   ],
   "source": [
    "import numpy as np\n",
    "import pandas as pd\n",
    "import matplotlib.pyplot as plt\n",
    "data=pd.read_excel(\"general_data.xlsx\",sheet_name=0)\n",
    "from scipy.stats import pearsonr\n",
    "stats,p=pearsonr(data.Attrition,data.PercentSalaryHike )\n",
    "print(stats,p)\n",
    "#Correlation Hypothesis 6\n",
    "# Ho = Attrition has no significance with Percent  SalaryHike   (Null hypothesis) \n",
    "# Ha = Attrition has significance with Percent Salary Hike  (Alternate hypothesis)\n",
    "if(p,0.05):\n",
    "    print(\"Reject null hypothesis\")\n",
    "else:\n",
    "    print(\"Accept null hypothesis\")\n",
    "    print(stats,p)\n",
    "plt.scatter(data.Attrition,data.PercentSalaryHike)"
   ]
  },
  {
   "cell_type": "code",
   "execution_count": 7,
   "metadata": {},
   "outputs": [
    {
     "name": "stdout",
     "output_type": "stream",
     "text": [
      "-0.17023794049182428 4.959687383334802e-30\n",
      "Reject null hypothesis\n"
     ]
    },
    {
     "data": {
      "text/plain": [
       "<matplotlib.collections.PathCollection at 0x1c904153948>"
      ]
     },
     "execution_count": 7,
     "metadata": {},
     "output_type": "execute_result"
    },
    {
     "data": {
      "image/png": "[encoded data removed]",
      "text/plain": [
       "<Figure size 432x288 with 1 Axes>"
      ]
     },
     "metadata": {
      "needs_background": "light"
     },
     "output_type": "display_data"
    }
   ],
   "source": [
    "import numpy as np\n",
    "import pandas as pd\n",
    "import matplotlib.pyplot as plt\n",
    "data=pd.read_excel(\"general_data.xlsx\",sheet_name=0)\n",
    "from scipy.stats import pearsonr\n",
    "stats,p=pearsonr(data.Attrition,data.TotalWorkingYears)\n",
    "print(stats,p)\n",
    "#Correlation Hypothesis 7\n",
    "# Ho = Attrition has no significance with Percent  Total Working Years    (Null hypothesis) \n",
    "# Ha = Attrition has significance with Percent Total Working Years   (Alternate hypothesis)\n",
    "if(p,0.05):\n",
    "    print(\"Reject null hypothesis\")\n",
    "else:\n",
    "    print(\"Accept null hypothesis\")\n",
    "    print(stats,p)\n",
    "plt.scatter(data.Attrition,data.TotalWorkingYears)"
   ]
  },
  {
   "cell_type": "code",
   "execution_count": 8,
   "metadata": {},
   "outputs": [
    {
     "name": "stdout",
     "output_type": "stream",
     "text": [
      "-0.049430576244255 0.0010247061915365072\n",
      "Reject null hypothesis\n"
     ]
    },
    {
     "data": {
      "text/plain": [
       "<matplotlib.collections.PathCollection at 0x1c9041f5588>"
      ]
     },
     "execution_count": 8,
     "metadata": {},
     "output_type": "execute_result"
    },
    {
     "data": {
      "image/png": "[encoded data removed]",
      "text/plain": [
       "<Figure size 432x288 with 1 Axes>"
      ]
     },
     "metadata": {
      "needs_background": "light"
     },
     "output_type": "display_data"
    }
   ],
   "source": [
    "import numpy as np\n",
    "import pandas as pd\n",
    "import matplotlib.pyplot as plt\n",
    "data=pd.read_excel(\"general_data.xlsx\",sheet_name=0)\n",
    "from scipy.stats import pearsonr\n",
    "stats,p=pearsonr(data.Attrition,data.TrainingTimesLastYear)\n",
    "print(stats,p)\n",
    "#Correlation Hypothesis 8\n",
    "# Ho = Attrition has no significance with Percent  Training Times Last Year     (Null hypothesis) \n",
    "# Ha = Attrition has significance with Percent Training Times Last Year   (Alternate hypothesis)\n",
    "if(p,0.05):\n",
    "    print(\"Reject null hypothesis\")\n",
    "else:\n",
    "    print(\"Accept null hypothesis\")\n",
    "    print(stats,p)\n",
    "plt.scatter(data.Attrition,data.TrainingTimesLastYear)"
   ]
  },
  {
   "cell_type": "code",
   "execution_count": 9,
   "metadata": {},
   "outputs": [
    {
     "name": "stdout",
     "output_type": "stream",
     "text": [
      "-0.1343922139899772 3.1638831224877484e-19\n",
      "Reject null hypothesis\n"
     ]
    },
    {
     "data": {
      "text/plain": [
       "<matplotlib.collections.PathCollection at 0x1c903fd3208>"
      ]
     },
     "execution_count": 9,
     "metadata": {},
     "output_type": "execute_result"
    },
    {
     "data": {
      "image/png": "[encoded data removed]",
      "text/plain": [
       "<Figure size 432x288 with 1 Axes>"
      ]
     },
     "metadata": {
      "needs_background": "light"
     },
     "output_type": "display_data"
    }
   ],
   "source": [
    "import numpy as np\n",
    "import pandas as pd\n",
    "import matplotlib.pyplot as plt\n",
    "data=pd.read_excel(\"general_data.xlsx\",sheet_name=0)\n",
    "from scipy.stats import pearsonr\n",
    "stats,p=pearsonr(data.Attrition,data.YearsAtCompany)\n",
    "print(stats,p)\n",
    "#Correlation Hypothesis 9\n",
    "# Ho = Attrition has no significance with Years At Company     (Null hypothesis) \n",
    "# Ha = Attrition has significance with Years At Company   (Alternate hypothesis)\n",
    "if(p,0.05):\n",
    "    print(\"Reject null hypothesis\")\n",
    "else:\n",
    "    print(\"Accept null hypothesis\")\n",
    "    print(stats,p)\n",
    "plt.scatter(data.Attrition,data.YearsAtCompany)"
   ]
  },
  {
   "cell_type": "code",
   "execution_count": 10,
   "metadata": {},
   "outputs": [
    {
     "name": "stdout",
     "output_type": "stream",
     "text": [
      "-0.03301877514258434 0.028330336189396753\n",
      "Reject null hypothesis\n"
     ]
    },
    {
     "data": {
      "text/plain": [
       "<matplotlib.collections.PathCollection at 0x1c90406eb88>"
      ]
     },
     "execution_count": 10,
     "metadata": {},
     "output_type": "execute_result"
    },
    {
     "data": {
      "image/png": "[encoded data removed]",
      "text/plain": [
       "<Figure size 432x288 with 1 Axes>"
      ]
     },
     "metadata": {
      "needs_background": "light"
     },
     "output_type": "display_data"
    }
   ],
   "source": [
    "import numpy as np\n",
    "import pandas as pd\n",
    "import matplotlib.pyplot as plt\n",
    "data=pd.read_excel(\"general_data.xlsx\",sheet_name=0)\n",
    "from scipy.stats import pearsonr\n",
    "stats,p=pearsonr(data.Attrition,data.YearsSinceLastPromotion)\n",
    "print(stats,p)\n",
    "#Correlation Hypothesis 10\n",
    "# Ho = Attrition has no significance with Years  Since Last   Promotion  (Null hypothesis) \n",
    "# Ha = Attrition has significance with Years  Since Last   Promotion   (Alternate hypothesis)\n",
    "if(p,0.05):\n",
    "    print(\"Reject null hypothesis\")\n",
    "else:\n",
    "    print(\"Accept null hypothesis\")\n",
    "    print(stats,p)\n",
    "plt.scatter(data.Attrition,data.YearsSinceLastPromotion)"
   ]
  },
  {
   "cell_type": "code",
   "execution_count": null,
   "metadata": {},
   "outputs": [],
   "source": []
  }
 ],
 "metadata": {
  "kernelspec": {
   "display_name": "Python 3",
   "language": "python",
   "name": "python3"
  },
  "language_info": {
   "codemirror_mode": {
    "name": "ipython",
    "version": 3
   },
   "file_extension": ".py",
   "mimetype": "text/x-python",
   "name": "python",
   "nbconvert_exporter": "python",
   "pygments_lexer": "ipython3",
   "version": "3.7.6"
  }
 },
 "nbformat": 4,
 "nbformat_minor": 4
}
